{
 "cells": [
  {
   "cell_type": "markdown",
   "id": "0ed1d095",
   "metadata": {
    "papermill": {
     "duration": 0.007688,
     "end_time": "2022-07-24T20:04:53.219581",
     "exception": false,
     "start_time": "2022-07-24T20:04:53.211893",
     "status": "completed"
    },
    "tags": []
   },
   "source": [
    "# Vamos analisar os suicidios do brasil entre 2014 a 2018"
   ]
  },
  {
   "cell_type": "markdown",
   "id": "034d6b0a",
   "metadata": {
    "papermill": {
     "duration": 0.00635,
     "end_time": "2022-07-24T20:04:53.232709",
     "exception": false,
     "start_time": "2022-07-24T20:04:53.226359",
     "status": "completed"
    },
    "tags": []
   },
   "source": [
    "Bom dia a todos, hoje resolvi fazer essa analise de dados, é algo simples mas para mim que comecei a estudar Data Sciencie a pouco mais de um mês foi um desafio entanto, conheci a ciencia de dados quando estava começando a estudar sobre Java e foi amor a primeira vista, então espero que gostem dos insigths que foi tirado dessa analise!"
   ]
  },
  {
   "cell_type": "code",
   "execution_count": 1,
   "id": "e823202a",
   "metadata": {
    "execution": {
     "iopub.execute_input": "2022-07-24T20:04:53.248034Z",
     "iopub.status.busy": "2022-07-24T20:04:53.247323Z",
     "iopub.status.idle": "2022-07-24T20:04:54.273492Z",
     "shell.execute_reply": "2022-07-24T20:04:54.272370Z"
    },
    "papermill": {
     "duration": 1.036963,
     "end_time": "2022-07-24T20:04:54.276213",
     "exception": false,
     "start_time": "2022-07-24T20:04:53.239250",
     "status": "completed"
    },
    "tags": []
   },
   "outputs": [],
   "source": [
    "import pandas as pd\n",
    "import numpy as np\n",
    "import matplotlib.pyplot as plt\n",
    "import seaborn as sns"
   ]
  },
  {
   "cell_type": "code",
   "execution_count": 2,
   "id": "8a48e51d",
   "metadata": {
    "execution": {
     "iopub.execute_input": "2022-07-24T20:04:54.291282Z",
     "iopub.status.busy": "2022-07-24T20:04:54.290850Z",
     "iopub.status.idle": "2022-07-24T20:04:54.591278Z",
     "shell.execute_reply": "2022-07-24T20:04:54.589993Z"
    },
    "papermill": {
     "duration": 0.312214,
     "end_time": "2022-07-24T20:04:54.595295",
     "exception": false,
     "start_time": "2022-07-24T20:04:54.283081",
     "status": "completed"
    },
    "tags": []
   },
   "outputs": [
    {
     "data": {
      "text/plain": [
       "<bound method NDFrame.head of       estado   ano CIRCOBITO   DTOBITO    DTNASC       SEXO RACACOR  \\\n",
       "0         AC  2014  Suicídio  02-01-14  02-07-77  Masculino   Preta   \n",
       "1         AC  2014  Suicídio  23-01-14  30-07-66  Masculino  Branca   \n",
       "2         AC  2014  Suicídio  31-01-14  28-07-43  Masculino  Branca   \n",
       "3         AC  2014  Suicídio  05-02-14  04-07-99  Masculino  Branca   \n",
       "4         AC  2014  Suicídio  06-02-14  02-05-72  Masculino  Branca   \n",
       "...      ...   ...       ...       ...       ...        ...     ...   \n",
       "58629     TO  2018  Suicídio  16-04-18  17-11-89  Masculino  Branca   \n",
       "58630     TO  2018  Suicídio  14-05-18  03-07-90   Feminino   Parda   \n",
       "58631     TO  2018  Suicídio  15-05-18  08-08-55   Feminino   Parda   \n",
       "58632     TO  2018  Suicídio  24-07-18  27-06-01  Masculino   Parda   \n",
       "58633     TO  2018  Suicídio  28-12-18  17-07-76  Masculino   Preta   \n",
       "\n",
       "                 ESTCIV          ESC                             OCUP  \\\n",
       "0                Casado   4 a 7 anos   ATLETA PROFISSIONAL DE FUTEBOL   \n",
       "1      União consensual    12 e mais  MEDICO GINECOLOGISTA E OBSTETRA   \n",
       "2                   NaN          NaN                                0   \n",
       "3              Solteiro   4 a 7 anos                        ESTUDANTE   \n",
       "4                   NaN          NaN                                0   \n",
       "...                 ...          ...                              ...   \n",
       "58629          Solteiro  8 a 11 anos            DESEMPREGADO CRONICO    \n",
       "58630  União consensual          NaN                        ESTUDANTE   \n",
       "58631             Viúvo      Nenhuma                     DONA DE CASA   \n",
       "58632          Solteiro  8 a 11 anos                        ESTUDANTE   \n",
       "58633  União consensual      Nenhuma                                0   \n",
       "\n",
       "            CODMUNRES    LOCOCOR ASSISTMED CAUSABAS CAUSABAS_O  idade  mes  \n",
       "0          Rio Branco  Domicílio       Não     X700       X700   37.0    1  \n",
       "1          Rio Branco  Domicílio       Não     X800       X800   48.0    1  \n",
       "2          Rio Branco  Domicílio       Não     X700       X700   71.0    1  \n",
       "3      Epitaciolândia     Outros       Não     X700       X700   15.0    2  \n",
       "4          Rio Branco     Outros       Não     X700       X700   42.0    2  \n",
       "...               ...        ...       ...      ...        ...    ...  ...  \n",
       "58629          Palmas  Domicílio       Não     X780       X780   29.0    4  \n",
       "58630          Palmas  Domicílio       Não     X610       X840   28.0    5  \n",
       "58631          Palmas   Hospital       Sim     X699        R99   63.0    5  \n",
       "58632       Araguaína     Outros       Não     X700       X700   17.0    7  \n",
       "58633      Natividade  Domicílio       Não     X700       X700   42.0   12  \n",
       "\n",
       "[58634 rows x 17 columns]>"
      ]
     },
     "execution_count": 2,
     "metadata": {},
     "output_type": "execute_result"
    }
   ],
   "source": [
    "df = pd.read_csv('../input/suicdios-no-brasil-entre-2014-a-2018/dsuicidio2018.csv', encoding='latin-1')\n",
    "df.head"
   ]
  },
  {
   "cell_type": "code",
   "execution_count": 3,
   "id": "aaa09a12",
   "metadata": {
    "execution": {
     "iopub.execute_input": "2022-07-24T20:04:54.611191Z",
     "iopub.status.busy": "2022-07-24T20:04:54.610519Z",
     "iopub.status.idle": "2022-07-24T20:04:54.619868Z",
     "shell.execute_reply": "2022-07-24T20:04:54.618973Z"
    },
    "papermill": {
     "duration": 0.01978,
     "end_time": "2022-07-24T20:04:54.622084",
     "exception": false,
     "start_time": "2022-07-24T20:04:54.602304",
     "status": "completed"
    },
    "tags": []
   },
   "outputs": [
    {
     "data": {
      "text/plain": [
       "estado         object\n",
       "ano             int64\n",
       "CIRCOBITO      object\n",
       "DTOBITO        object\n",
       "DTNASC         object\n",
       "SEXO           object\n",
       "RACACOR        object\n",
       "ESTCIV         object\n",
       "ESC            object\n",
       "OCUP           object\n",
       "CODMUNRES      object\n",
       "LOCOCOR        object\n",
       "ASSISTMED      object\n",
       "CAUSABAS       object\n",
       "CAUSABAS_O     object\n",
       "idade         float64\n",
       "mes             int64\n",
       "dtype: object"
      ]
     },
     "execution_count": 3,
     "metadata": {},
     "output_type": "execute_result"
    }
   ],
   "source": [
    "df.dtypes"
   ]
  },
  {
   "cell_type": "code",
   "execution_count": 4,
   "id": "876582e0",
   "metadata": {
    "execution": {
     "iopub.execute_input": "2022-07-24T20:04:54.638798Z",
     "iopub.status.busy": "2022-07-24T20:04:54.637779Z",
     "iopub.status.idle": "2022-07-24T20:04:54.683239Z",
     "shell.execute_reply": "2022-07-24T20:04:54.681871Z"
    },
    "papermill": {
     "duration": 0.056725,
     "end_time": "2022-07-24T20:04:54.685896",
     "exception": false,
     "start_time": "2022-07-24T20:04:54.629171",
     "status": "completed"
    },
    "tags": []
   },
   "outputs": [
    {
     "data": {
      "text/plain": [
       "estado            0\n",
       "ano               0\n",
       "CIRCOBITO      2028\n",
       "DTOBITO           0\n",
       "DTNASC          227\n",
       "SEXO             15\n",
       "RACACOR        1336\n",
       "ESTCIV         4329\n",
       "ESC           13472\n",
       "OCUP              0\n",
       "CODMUNRES         0\n",
       "LOCOCOR         171\n",
       "ASSISTMED     17762\n",
       "CAUSABAS          0\n",
       "CAUSABAS_O       90\n",
       "idade           227\n",
       "mes               0\n",
       "dtype: int64"
      ]
     },
     "execution_count": 4,
     "metadata": {},
     "output_type": "execute_result"
    }
   ],
   "source": [
    "df.isnull().sum()"
   ]
  },
  {
   "cell_type": "code",
   "execution_count": 5,
   "id": "2f89d411",
   "metadata": {
    "execution": {
     "iopub.execute_input": "2022-07-24T20:04:54.701977Z",
     "iopub.status.busy": "2022-07-24T20:04:54.701578Z",
     "iopub.status.idle": "2022-07-24T20:04:54.710848Z",
     "shell.execute_reply": "2022-07-24T20:04:54.709606Z"
    },
    "papermill": {
     "duration": 0.020424,
     "end_time": "2022-07-24T20:04:54.713597",
     "exception": false,
     "start_time": "2022-07-24T20:04:54.693173",
     "status": "completed"
    },
    "tags": []
   },
   "outputs": [],
   "source": [
    "def preprocessamento(df, cols_numericas, cols_categoricas):\n",
    "    dff = df.copy()\n",
    "    temp = (df.isnull().sum() / df.shape[0]) >= 0.8\n",
    "    variaveis_80percFaltantes = temp.loc[temp == True].index.tolist()\n",
    "    for v in variaveis_80percFaltantes:\n",
    "        dff = dff.drop(v, axis = 1)\n",
    "        \n",
    "    cols_numericas = list(set(cols_numericas).intersection(set(dff.columns.tolist())))\n",
    "    cols_categoricas = list(set(cols_categoricas).intersection(set(dff.columns.tolist())))\n",
    "        \n",
    "    for v in cols_numericas:\n",
    "        dff[v] = dff[v].fillna(dff[v].mean())\n",
    "        \n",
    "    for v in cols_categoricas:\n",
    "        mode_v = dff[v].value_counts().idxmax()\n",
    "        dff[v] = dff[v].fillna(mode_v)\n",
    "    return dff"
   ]
  },
  {
   "cell_type": "code",
   "execution_count": 6,
   "id": "530180e7",
   "metadata": {
    "execution": {
     "iopub.execute_input": "2022-07-24T20:04:54.729993Z",
     "iopub.status.busy": "2022-07-24T20:04:54.729334Z",
     "iopub.status.idle": "2022-07-24T20:04:54.857263Z",
     "shell.execute_reply": "2022-07-24T20:04:54.856080Z"
    },
    "papermill": {
     "duration": 0.139028,
     "end_time": "2022-07-24T20:04:54.859761",
     "exception": false,
     "start_time": "2022-07-24T20:04:54.720733",
     "status": "completed"
    },
    "tags": []
   },
   "outputs": [
    {
     "data": {
      "text/html": [
       "<div>\n",
       "<style scoped>\n",
       "    .dataframe tbody tr th:only-of-type {\n",
       "        vertical-align: middle;\n",
       "    }\n",
       "\n",
       "    .dataframe tbody tr th {\n",
       "        vertical-align: top;\n",
       "    }\n",
       "\n",
       "    .dataframe thead th {\n",
       "        text-align: right;\n",
       "    }\n",
       "</style>\n",
       "<table border=\"1\" class=\"dataframe\">\n",
       "  <thead>\n",
       "    <tr style=\"text-align: right;\">\n",
       "      <th></th>\n",
       "      <th>estado</th>\n",
       "      <th>ano</th>\n",
       "      <th>CIRCOBITO</th>\n",
       "      <th>DTOBITO</th>\n",
       "      <th>DTNASC</th>\n",
       "      <th>SEXO</th>\n",
       "      <th>RACACOR</th>\n",
       "      <th>ESTCIV</th>\n",
       "      <th>ESC</th>\n",
       "      <th>OCUP</th>\n",
       "      <th>CODMUNRES</th>\n",
       "      <th>LOCOCOR</th>\n",
       "      <th>ASSISTMED</th>\n",
       "      <th>CAUSABAS</th>\n",
       "      <th>CAUSABAS_O</th>\n",
       "      <th>idade</th>\n",
       "      <th>mes</th>\n",
       "    </tr>\n",
       "  </thead>\n",
       "  <tbody>\n",
       "    <tr>\n",
       "      <th>0</th>\n",
       "      <td>AC</td>\n",
       "      <td>2014</td>\n",
       "      <td>Suicídio</td>\n",
       "      <td>02-01-14</td>\n",
       "      <td>02-07-77</td>\n",
       "      <td>Masculino</td>\n",
       "      <td>Preta</td>\n",
       "      <td>Casado</td>\n",
       "      <td>4 a 7 anos</td>\n",
       "      <td>ATLETA PROFISSIONAL DE FUTEBOL</td>\n",
       "      <td>Rio Branco</td>\n",
       "      <td>Domicílio</td>\n",
       "      <td>Não</td>\n",
       "      <td>X700</td>\n",
       "      <td>X700</td>\n",
       "      <td>37.0</td>\n",
       "      <td>1</td>\n",
       "    </tr>\n",
       "    <tr>\n",
       "      <th>1</th>\n",
       "      <td>AC</td>\n",
       "      <td>2014</td>\n",
       "      <td>Suicídio</td>\n",
       "      <td>23-01-14</td>\n",
       "      <td>30-07-66</td>\n",
       "      <td>Masculino</td>\n",
       "      <td>Branca</td>\n",
       "      <td>União consensual</td>\n",
       "      <td>12 e mais</td>\n",
       "      <td>MEDICO GINECOLOGISTA E OBSTETRA</td>\n",
       "      <td>Rio Branco</td>\n",
       "      <td>Domicílio</td>\n",
       "      <td>Não</td>\n",
       "      <td>X800</td>\n",
       "      <td>X800</td>\n",
       "      <td>48.0</td>\n",
       "      <td>1</td>\n",
       "    </tr>\n",
       "    <tr>\n",
       "      <th>2</th>\n",
       "      <td>AC</td>\n",
       "      <td>2014</td>\n",
       "      <td>Suicídio</td>\n",
       "      <td>31-01-14</td>\n",
       "      <td>28-07-43</td>\n",
       "      <td>Masculino</td>\n",
       "      <td>Branca</td>\n",
       "      <td>Solteiro</td>\n",
       "      <td>8 a 11 anos</td>\n",
       "      <td>0</td>\n",
       "      <td>Rio Branco</td>\n",
       "      <td>Domicílio</td>\n",
       "      <td>Não</td>\n",
       "      <td>X700</td>\n",
       "      <td>X700</td>\n",
       "      <td>71.0</td>\n",
       "      <td>1</td>\n",
       "    </tr>\n",
       "    <tr>\n",
       "      <th>3</th>\n",
       "      <td>AC</td>\n",
       "      <td>2014</td>\n",
       "      <td>Suicídio</td>\n",
       "      <td>05-02-14</td>\n",
       "      <td>04-07-99</td>\n",
       "      <td>Masculino</td>\n",
       "      <td>Branca</td>\n",
       "      <td>Solteiro</td>\n",
       "      <td>4 a 7 anos</td>\n",
       "      <td>ESTUDANTE</td>\n",
       "      <td>Epitaciolândia</td>\n",
       "      <td>Outros</td>\n",
       "      <td>Não</td>\n",
       "      <td>X700</td>\n",
       "      <td>X700</td>\n",
       "      <td>15.0</td>\n",
       "      <td>2</td>\n",
       "    </tr>\n",
       "    <tr>\n",
       "      <th>4</th>\n",
       "      <td>AC</td>\n",
       "      <td>2014</td>\n",
       "      <td>Suicídio</td>\n",
       "      <td>06-02-14</td>\n",
       "      <td>02-05-72</td>\n",
       "      <td>Masculino</td>\n",
       "      <td>Branca</td>\n",
       "      <td>Solteiro</td>\n",
       "      <td>8 a 11 anos</td>\n",
       "      <td>0</td>\n",
       "      <td>Rio Branco</td>\n",
       "      <td>Outros</td>\n",
       "      <td>Não</td>\n",
       "      <td>X700</td>\n",
       "      <td>X700</td>\n",
       "      <td>42.0</td>\n",
       "      <td>2</td>\n",
       "    </tr>\n",
       "    <tr>\n",
       "      <th>...</th>\n",
       "      <td>...</td>\n",
       "      <td>...</td>\n",
       "      <td>...</td>\n",
       "      <td>...</td>\n",
       "      <td>...</td>\n",
       "      <td>...</td>\n",
       "      <td>...</td>\n",
       "      <td>...</td>\n",
       "      <td>...</td>\n",
       "      <td>...</td>\n",
       "      <td>...</td>\n",
       "      <td>...</td>\n",
       "      <td>...</td>\n",
       "      <td>...</td>\n",
       "      <td>...</td>\n",
       "      <td>...</td>\n",
       "      <td>...</td>\n",
       "    </tr>\n",
       "    <tr>\n",
       "      <th>58629</th>\n",
       "      <td>TO</td>\n",
       "      <td>2018</td>\n",
       "      <td>Suicídio</td>\n",
       "      <td>16-04-18</td>\n",
       "      <td>17-11-89</td>\n",
       "      <td>Masculino</td>\n",
       "      <td>Branca</td>\n",
       "      <td>Solteiro</td>\n",
       "      <td>8 a 11 anos</td>\n",
       "      <td>DESEMPREGADO CRONICO</td>\n",
       "      <td>Palmas</td>\n",
       "      <td>Domicílio</td>\n",
       "      <td>Não</td>\n",
       "      <td>X780</td>\n",
       "      <td>X780</td>\n",
       "      <td>29.0</td>\n",
       "      <td>4</td>\n",
       "    </tr>\n",
       "    <tr>\n",
       "      <th>58630</th>\n",
       "      <td>TO</td>\n",
       "      <td>2018</td>\n",
       "      <td>Suicídio</td>\n",
       "      <td>14-05-18</td>\n",
       "      <td>03-07-90</td>\n",
       "      <td>Feminino</td>\n",
       "      <td>Parda</td>\n",
       "      <td>União consensual</td>\n",
       "      <td>8 a 11 anos</td>\n",
       "      <td>ESTUDANTE</td>\n",
       "      <td>Palmas</td>\n",
       "      <td>Domicílio</td>\n",
       "      <td>Não</td>\n",
       "      <td>X610</td>\n",
       "      <td>X840</td>\n",
       "      <td>28.0</td>\n",
       "      <td>5</td>\n",
       "    </tr>\n",
       "    <tr>\n",
       "      <th>58631</th>\n",
       "      <td>TO</td>\n",
       "      <td>2018</td>\n",
       "      <td>Suicídio</td>\n",
       "      <td>15-05-18</td>\n",
       "      <td>08-08-55</td>\n",
       "      <td>Feminino</td>\n",
       "      <td>Parda</td>\n",
       "      <td>Viúvo</td>\n",
       "      <td>Nenhuma</td>\n",
       "      <td>DONA DE CASA</td>\n",
       "      <td>Palmas</td>\n",
       "      <td>Hospital</td>\n",
       "      <td>Sim</td>\n",
       "      <td>X699</td>\n",
       "      <td>R99</td>\n",
       "      <td>63.0</td>\n",
       "      <td>5</td>\n",
       "    </tr>\n",
       "    <tr>\n",
       "      <th>58632</th>\n",
       "      <td>TO</td>\n",
       "      <td>2018</td>\n",
       "      <td>Suicídio</td>\n",
       "      <td>24-07-18</td>\n",
       "      <td>27-06-01</td>\n",
       "      <td>Masculino</td>\n",
       "      <td>Parda</td>\n",
       "      <td>Solteiro</td>\n",
       "      <td>8 a 11 anos</td>\n",
       "      <td>ESTUDANTE</td>\n",
       "      <td>Araguaína</td>\n",
       "      <td>Outros</td>\n",
       "      <td>Não</td>\n",
       "      <td>X700</td>\n",
       "      <td>X700</td>\n",
       "      <td>17.0</td>\n",
       "      <td>7</td>\n",
       "    </tr>\n",
       "    <tr>\n",
       "      <th>58633</th>\n",
       "      <td>TO</td>\n",
       "      <td>2018</td>\n",
       "      <td>Suicídio</td>\n",
       "      <td>28-12-18</td>\n",
       "      <td>17-07-76</td>\n",
       "      <td>Masculino</td>\n",
       "      <td>Preta</td>\n",
       "      <td>União consensual</td>\n",
       "      <td>Nenhuma</td>\n",
       "      <td>0</td>\n",
       "      <td>Natividade</td>\n",
       "      <td>Domicílio</td>\n",
       "      <td>Não</td>\n",
       "      <td>X700</td>\n",
       "      <td>X700</td>\n",
       "      <td>42.0</td>\n",
       "      <td>12</td>\n",
       "    </tr>\n",
       "  </tbody>\n",
       "</table>\n",
       "<p>58634 rows × 17 columns</p>\n",
       "</div>"
      ],
      "text/plain": [
       "      estado   ano CIRCOBITO   DTOBITO    DTNASC       SEXO RACACOR  \\\n",
       "0         AC  2014  Suicídio  02-01-14  02-07-77  Masculino   Preta   \n",
       "1         AC  2014  Suicídio  23-01-14  30-07-66  Masculino  Branca   \n",
       "2         AC  2014  Suicídio  31-01-14  28-07-43  Masculino  Branca   \n",
       "3         AC  2014  Suicídio  05-02-14  04-07-99  Masculino  Branca   \n",
       "4         AC  2014  Suicídio  06-02-14  02-05-72  Masculino  Branca   \n",
       "...      ...   ...       ...       ...       ...        ...     ...   \n",
       "58629     TO  2018  Suicídio  16-04-18  17-11-89  Masculino  Branca   \n",
       "58630     TO  2018  Suicídio  14-05-18  03-07-90   Feminino   Parda   \n",
       "58631     TO  2018  Suicídio  15-05-18  08-08-55   Feminino   Parda   \n",
       "58632     TO  2018  Suicídio  24-07-18  27-06-01  Masculino   Parda   \n",
       "58633     TO  2018  Suicídio  28-12-18  17-07-76  Masculino   Preta   \n",
       "\n",
       "                 ESTCIV          ESC                             OCUP  \\\n",
       "0                Casado   4 a 7 anos   ATLETA PROFISSIONAL DE FUTEBOL   \n",
       "1      União consensual    12 e mais  MEDICO GINECOLOGISTA E OBSTETRA   \n",
       "2              Solteiro  8 a 11 anos                                0   \n",
       "3              Solteiro   4 a 7 anos                        ESTUDANTE   \n",
       "4              Solteiro  8 a 11 anos                                0   \n",
       "...                 ...          ...                              ...   \n",
       "58629          Solteiro  8 a 11 anos            DESEMPREGADO CRONICO    \n",
       "58630  União consensual  8 a 11 anos                        ESTUDANTE   \n",
       "58631             Viúvo      Nenhuma                     DONA DE CASA   \n",
       "58632          Solteiro  8 a 11 anos                        ESTUDANTE   \n",
       "58633  União consensual      Nenhuma                                0   \n",
       "\n",
       "            CODMUNRES    LOCOCOR ASSISTMED CAUSABAS CAUSABAS_O  idade  mes  \n",
       "0          Rio Branco  Domicílio       Não     X700       X700   37.0    1  \n",
       "1          Rio Branco  Domicílio       Não     X800       X800   48.0    1  \n",
       "2          Rio Branco  Domicílio       Não     X700       X700   71.0    1  \n",
       "3      Epitaciolândia     Outros       Não     X700       X700   15.0    2  \n",
       "4          Rio Branco     Outros       Não     X700       X700   42.0    2  \n",
       "...               ...        ...       ...      ...        ...    ...  ...  \n",
       "58629          Palmas  Domicílio       Não     X780       X780   29.0    4  \n",
       "58630          Palmas  Domicílio       Não     X610       X840   28.0    5  \n",
       "58631          Palmas   Hospital       Sim     X699        R99   63.0    5  \n",
       "58632       Araguaína     Outros       Não     X700       X700   17.0    7  \n",
       "58633      Natividade  Domicílio       Não     X700       X700   42.0   12  \n",
       "\n",
       "[58634 rows x 17 columns]"
      ]
     },
     "execution_count": 6,
     "metadata": {},
     "output_type": "execute_result"
    }
   ],
   "source": [
    "df = preprocessamento(df = df, \n",
    "                            cols_numericas = ['idade'], \n",
    "                            cols_categoricas = ['ASSISTMED', 'ESC','RACACOR','ESTCIV','LOCOCOR','SEXO'])\n",
    "\n",
    "df"
   ]
  },
  {
   "cell_type": "code",
   "execution_count": 7,
   "id": "51c1751c",
   "metadata": {
    "execution": {
     "iopub.execute_input": "2022-07-24T20:04:54.876997Z",
     "iopub.status.busy": "2022-07-24T20:04:54.876602Z",
     "iopub.status.idle": "2022-07-24T20:04:54.972827Z",
     "shell.execute_reply": "2022-07-24T20:04:54.971892Z"
    },
    "papermill": {
     "duration": 0.1077,
     "end_time": "2022-07-24T20:04:54.975200",
     "exception": false,
     "start_time": "2022-07-24T20:04:54.867500",
     "status": "completed"
    },
    "tags": []
   },
   "outputs": [
    {
     "data": {
      "text/plain": [
       "estado        0\n",
       "ano           0\n",
       "CIRCOBITO     0\n",
       "DTOBITO       0\n",
       "DTNASC        0\n",
       "SEXO          0\n",
       "RACACOR       0\n",
       "ESTCIV        0\n",
       "ESC           0\n",
       "OCUP          0\n",
       "CODMUNRES     0\n",
       "LOCOCOR       0\n",
       "ASSISTMED     0\n",
       "CAUSABAS      0\n",
       "CAUSABAS_O    0\n",
       "idade         0\n",
       "mes           0\n",
       "dtype: int64"
      ]
     },
     "execution_count": 7,
     "metadata": {},
     "output_type": "execute_result"
    }
   ],
   "source": [
    "df = df.dropna(axis=0)\n",
    "df.isnull().sum()"
   ]
  },
  {
   "cell_type": "code",
   "execution_count": 8,
   "id": "0bdf5623",
   "metadata": {
    "execution": {
     "iopub.execute_input": "2022-07-24T20:04:54.992824Z",
     "iopub.status.busy": "2022-07-24T20:04:54.991921Z",
     "iopub.status.idle": "2022-07-24T20:04:55.004622Z",
     "shell.execute_reply": "2022-07-24T20:04:55.003485Z"
    },
    "papermill": {
     "duration": 0.024216,
     "end_time": "2022-07-24T20:04:55.007136",
     "exception": false,
     "start_time": "2022-07-24T20:04:54.982920",
     "status": "completed"
    },
    "tags": []
   },
   "outputs": [
    {
     "data": {
      "text/plain": [
       "Branca      29497\n",
       "Parda       23100\n",
       "Preta        2892\n",
       "Indígena      600\n",
       "Amarela       229\n",
       "Name: RACACOR, dtype: int64"
      ]
     },
     "execution_count": 8,
     "metadata": {},
     "output_type": "execute_result"
    }
   ],
   "source": [
    "df.RACACOR.value_counts()\n",
    "# esse dado se refere Cor das pessoas"
   ]
  },
  {
   "cell_type": "code",
   "execution_count": 9,
   "id": "bd6436c0",
   "metadata": {
    "execution": {
     "iopub.execute_input": "2022-07-24T20:04:55.025597Z",
     "iopub.status.busy": "2022-07-24T20:04:55.024895Z",
     "iopub.status.idle": "2022-07-24T20:04:55.036537Z",
     "shell.execute_reply": "2022-07-24T20:04:55.035337Z"
    },
    "papermill": {
     "duration": 0.023118,
     "end_time": "2022-07-24T20:04:55.038852",
     "exception": false,
     "start_time": "2022-07-24T20:04:55.015734",
     "status": "completed"
    },
    "tags": []
   },
   "outputs": [
    {
     "data": {
      "text/plain": [
       "Domicílio                         35241\n",
       "Outros                             8838\n",
       "Hospital                           8019\n",
       "Via pública                        3335\n",
       "Outro estabelecimento de saúde      879\n",
       "6                                     6\n",
       "Name: LOCOCOR, dtype: int64"
      ]
     },
     "execution_count": 9,
     "metadata": {},
     "output_type": "execute_result"
    }
   ],
   "source": [
    "df.LOCOCOR.value_counts()\n",
    "#esse dado se refere ao local onde foi cometido o suicidio."
   ]
  },
  {
   "cell_type": "code",
   "execution_count": 10,
   "id": "e2cc2e51",
   "metadata": {
    "execution": {
     "iopub.execute_input": "2022-07-24T20:04:55.056713Z",
     "iopub.status.busy": "2022-07-24T20:04:55.055977Z",
     "iopub.status.idle": "2022-07-24T20:04:55.067358Z",
     "shell.execute_reply": "2022-07-24T20:04:55.066502Z"
    },
    "papermill": {
     "duration": 0.022704,
     "end_time": "2022-07-24T20:04:55.069512",
     "exception": false,
     "start_time": "2022-07-24T20:04:55.046808",
     "status": "completed"
    },
    "tags": []
   },
   "outputs": [
    {
     "data": {
      "text/plain": [
       "Masculino    44353\n",
       "Feminino     11965\n",
       "Name: SEXO, dtype: int64"
      ]
     },
     "execution_count": 10,
     "metadata": {},
     "output_type": "execute_result"
    }
   ],
   "source": [
    "df.SEXO.value_counts()\n",
    "#esse dado se refere ao sexo da pessoa"
   ]
  },
  {
   "cell_type": "code",
   "execution_count": 11,
   "id": "5558b004",
   "metadata": {
    "execution": {
     "iopub.execute_input": "2022-07-24T20:04:55.087872Z",
     "iopub.status.busy": "2022-07-24T20:04:55.087123Z",
     "iopub.status.idle": "2022-07-24T20:04:55.095737Z",
     "shell.execute_reply": "2022-07-24T20:04:55.094813Z"
    },
    "papermill": {
     "duration": 0.020256,
     "end_time": "2022-07-24T20:04:55.097882",
     "exception": false,
     "start_time": "2022-07-24T20:04:55.077626",
     "status": "completed"
    },
    "tags": []
   },
   "outputs": [
    {
     "data": {
      "text/plain": [
       "2018    12364\n",
       "2017    11927\n",
       "2016    10863\n",
       "2015    10824\n",
       "2014    10340\n",
       "Name: ano, dtype: int64"
      ]
     },
     "execution_count": 11,
     "metadata": {},
     "output_type": "execute_result"
    }
   ],
   "source": [
    "df.ano.value_counts()\n",
    "#esse dado se refere ao ano em que foi cometido o suicidio"
   ]
  },
  {
   "cell_type": "code",
   "execution_count": 12,
   "id": "2f2e8ff0",
   "metadata": {
    "execution": {
     "iopub.execute_input": "2022-07-24T20:04:55.116430Z",
     "iopub.status.busy": "2022-07-24T20:04:55.115703Z",
     "iopub.status.idle": "2022-07-24T20:04:55.128161Z",
     "shell.execute_reply": "2022-07-24T20:04:55.127052Z"
    },
    "papermill": {
     "duration": 0.024465,
     "end_time": "2022-07-24T20:04:55.130419",
     "exception": false,
     "start_time": "2022-07-24T20:04:55.105954",
     "status": "completed"
    },
    "tags": []
   },
   "outputs": [
    {
     "data": {
      "text/plain": [
       "SP    10525\n",
       "MG     6725\n",
       "RS     5993\n",
       "PR     3701\n",
       "SC     3288\n",
       "CE     2919\n",
       "RJ     2877\n",
       "BA     2546\n",
       "GO     2331\n",
       "PE     1776\n",
       "PI     1455\n",
       "MA     1347\n",
       "PA     1314\n",
       "MS     1172\n",
       "AM     1086\n",
       "PB      993\n",
       "ES      968\n",
       "MT      862\n",
       "RN      845\n",
       "DF      768\n",
       "SE      597\n",
       "AL      565\n",
       "RO      518\n",
       "TO      514\n",
       "AC      254\n",
       "AP      217\n",
       "RR      162\n",
       "Name: estado, dtype: int64"
      ]
     },
     "execution_count": 12,
     "metadata": {},
     "output_type": "execute_result"
    }
   ],
   "source": [
    "df.estado.value_counts()\n",
    "#esse dado se refere aos estados com maior numero de óbitos"
   ]
  },
  {
   "cell_type": "code",
   "execution_count": 13,
   "id": "b224858f",
   "metadata": {
    "execution": {
     "iopub.execute_input": "2022-07-24T20:04:55.149336Z",
     "iopub.status.busy": "2022-07-24T20:04:55.148572Z",
     "iopub.status.idle": "2022-07-24T20:04:55.161188Z",
     "shell.execute_reply": "2022-07-24T20:04:55.160033Z"
    },
    "papermill": {
     "duration": 0.024648,
     "end_time": "2022-07-24T20:04:55.163446",
     "exception": false,
     "start_time": "2022-07-24T20:04:55.138798",
     "status": "completed"
    },
    "tags": []
   },
   "outputs": [
    {
     "data": {
      "text/plain": [
       "33.0     1250\n",
       "30.0     1228\n",
       "35.0     1215\n",
       "31.0     1211\n",
       "39.0     1203\n",
       "         ... \n",
       "103.0       1\n",
       "99.0        1\n",
       "102.0       1\n",
       "2.0         1\n",
       "6.0         1\n",
       "Name: idade, Length: 106, dtype: int64"
      ]
     },
     "execution_count": 13,
     "metadata": {},
     "output_type": "execute_result"
    }
   ],
   "source": [
    "df.idade.value_counts()"
   ]
  },
  {
   "cell_type": "code",
   "execution_count": 14,
   "id": "b3434981",
   "metadata": {
    "execution": {
     "iopub.execute_input": "2022-07-24T20:04:55.182545Z",
     "iopub.status.busy": "2022-07-24T20:04:55.181775Z",
     "iopub.status.idle": "2022-07-24T20:04:55.192934Z",
     "shell.execute_reply": "2022-07-24T20:04:55.192121Z"
    },
    "papermill": {
     "duration": 0.023359,
     "end_time": "2022-07-24T20:04:55.195304",
     "exception": false,
     "start_time": "2022-07-24T20:04:55.171945",
     "status": "completed"
    },
    "tags": []
   },
   "outputs": [],
   "source": [
    "dfE = df.CODMUNRES.value_counts().head(15)"
   ]
  },
  {
   "cell_type": "code",
   "execution_count": 15,
   "id": "0950034c",
   "metadata": {
    "execution": {
     "iopub.execute_input": "2022-07-24T20:04:55.214650Z",
     "iopub.status.busy": "2022-07-24T20:04:55.213861Z",
     "iopub.status.idle": "2022-07-24T20:04:55.221527Z",
     "shell.execute_reply": "2022-07-24T20:04:55.220584Z"
    },
    "papermill": {
     "duration": 0.019833,
     "end_time": "2022-07-24T20:04:55.223702",
     "exception": false,
     "start_time": "2022-07-24T20:04:55.203869",
     "status": "completed"
    },
    "tags": []
   },
   "outputs": [
    {
     "data": {
      "text/plain": [
       "São Paulo         1718\n",
       "Rio de Janeiro    1156\n",
       "Brasília           768\n",
       "Belo Horizonte     729\n",
       "Fortaleza          705\n",
       "Manaus             524\n",
       "Porto Alegre       509\n",
       "Curitiba           474\n",
       "Goiânia            452\n",
       "Salvador           381\n",
       "Teresina           343\n",
       "Campinas           316\n",
       "Recife             306\n",
       "Guarulhos          304\n",
       "Campo Grande       299\n",
       "Name: CODMUNRES, dtype: int64"
      ]
     },
     "execution_count": 15,
     "metadata": {},
     "output_type": "execute_result"
    }
   ],
   "source": [
    "dfE"
   ]
  },
  {
   "cell_type": "code",
   "execution_count": 16,
   "id": "a88ba9d7",
   "metadata": {
    "execution": {
     "iopub.execute_input": "2022-07-24T20:04:55.242821Z",
     "iopub.status.busy": "2022-07-24T20:04:55.242040Z",
     "iopub.status.idle": "2022-07-24T20:04:55.684200Z",
     "shell.execute_reply": "2022-07-24T20:04:55.683022Z"
    },
    "papermill": {
     "duration": 0.454737,
     "end_time": "2022-07-24T20:04:55.686956",
     "exception": false,
     "start_time": "2022-07-24T20:04:55.232219",
     "status": "completed"
    },
    "tags": []
   },
   "outputs": [
    {
     "data": {
      "image/png": "[encoded data removed]",
      "text/plain": [
       "<Figure size 432x288 with 1 Axes>"
      ]
     },
     "metadata": {
      "needs_background": "light"
     },
     "output_type": "display_data"
    },
    {
     "data": {
      "text/plain": [
       "<Figure size 432x288 with 0 Axes>"
      ]
     },
     "metadata": {},
     "output_type": "display_data"
    }
   ],
   "source": [
    "df['estado'].value_counts().plot.bar()\n",
    "plt.title('Comparação de Suicídios por Estado')\n",
    "plt.ylabel('Numero de óbitos')\n",
    "plt.show()\n",
    "plt.savefig(\"Comparação de Suicídios por Estado\",dpi=300)"
   ]
  },
  {
   "cell_type": "code",
   "execution_count": 17,
   "id": "cd33312f",
   "metadata": {
    "execution": {
     "iopub.execute_input": "2022-07-24T20:04:55.708544Z",
     "iopub.status.busy": "2022-07-24T20:04:55.706668Z",
     "iopub.status.idle": "2022-07-24T20:04:55.902621Z",
     "shell.execute_reply": "2022-07-24T20:04:55.901659Z"
    },
    "papermill": {
     "duration": 0.208413,
     "end_time": "2022-07-24T20:04:55.904898",
     "exception": false,
     "start_time": "2022-07-24T20:04:55.696485",
     "status": "completed"
    },
    "tags": []
   },
   "outputs": [
    {
     "data": {
      "image/png": "[encoded data removed]",
      "text/plain": [
       "<Figure size 432x288 with 1 Axes>"
      ]
     },
     "metadata": {
      "needs_background": "light"
     },
     "output_type": "display_data"
    }
   ],
   "source": [
    "dfE.plot.barh()\n",
    "plt.title('Comparação de Suicídios por Cidades')\n",
    "plt.show()"
   ]
  },
  {
   "cell_type": "code",
   "execution_count": 18,
   "id": "ed42f22a",
   "metadata": {
    "execution": {
     "iopub.execute_input": "2022-07-24T20:04:55.926143Z",
     "iopub.status.busy": "2022-07-24T20:04:55.925393Z",
     "iopub.status.idle": "2022-07-24T20:04:56.743201Z",
     "shell.execute_reply": "2022-07-24T20:04:56.742299Z"
    },
    "papermill": {
     "duration": 0.831252,
     "end_time": "2022-07-24T20:04:56.745658",
     "exception": false,
     "start_time": "2022-07-24T20:04:55.914406",
     "status": "completed"
    },
    "tags": []
   },
   "outputs": [
    {
     "data": {
      "image/png": "[encoded data removed]",
      "text/plain": [
       "<Figure size 432x288 with 1 Axes>"
      ]
     },
     "metadata": {
      "needs_background": "light"
     },
     "output_type": "display_data"
    }
   ],
   "source": [
    "plt.barh(df.ESTCIV.unique(),df.ESTCIV.value_counts())\n",
    "plt.title('Numero de óbitos por estado cívil')\n",
    "plt.savefig(\"Numero de óbitos por estado cívil\",dpi=600)"
   ]
  },
  {
   "cell_type": "code",
   "execution_count": 19,
   "id": "d86527e8",
   "metadata": {
    "execution": {
     "iopub.execute_input": "2022-07-24T20:04:56.768654Z",
     "iopub.status.busy": "2022-07-24T20:04:56.766646Z",
     "iopub.status.idle": "2022-07-24T20:04:57.129918Z",
     "shell.execute_reply": "2022-07-24T20:04:57.129113Z"
    },
    "papermill": {
     "duration": 0.376603,
     "end_time": "2022-07-24T20:04:57.132253",
     "exception": false,
     "start_time": "2022-07-24T20:04:56.755650",
     "status": "completed"
    },
    "tags": []
   },
   "outputs": [
    {
     "data": {
      "image/png": "[encoded data removed]",
      "text/plain": [
       "<Figure size 432x288 with 1 Axes>"
      ]
     },
     "metadata": {
      "needs_background": "light"
     },
     "output_type": "display_data"
    }
   ],
   "source": [
    "plt.barh(df.ano.unique(),df.ano.value_counts())\n",
    "plt.title('Contagem de Suicídios por ano')\n",
    "plt.ylabel('Ano')\n",
    "plt.xlabel('Numero Obitos')\n",
    "plt.savefig(\"Contagem de Suicídios por ano\",dpi=300)"
   ]
  },
  {
   "cell_type": "code",
   "execution_count": 20,
   "id": "7f27511e",
   "metadata": {
    "execution": {
     "iopub.execute_input": "2022-07-24T20:04:57.154704Z",
     "iopub.status.busy": "2022-07-24T20:04:57.153945Z",
     "iopub.status.idle": "2022-07-24T20:04:57.677871Z",
     "shell.execute_reply": "2022-07-24T20:04:57.677083Z"
    },
    "papermill": {
     "duration": 0.537757,
     "end_time": "2022-07-24T20:04:57.680108",
     "exception": false,
     "start_time": "2022-07-24T20:04:57.142351",
     "status": "completed"
    },
    "tags": []
   },
   "outputs": [
    {
     "name": "stderr",
     "output_type": "stream",
     "text": [
      "/opt/conda/lib/python3.7/site-packages/seaborn/_decorators.py:43: FutureWarning: Pass the following variables as keyword args: x, y. From version 0.12, the only valid positional argument will be `data`, and passing other arguments without an explicit keyword will result in an error or misinterpretation.\n",
      "  FutureWarning\n"
     ]
    },
    {
     "data": {
      "image/png": "[encoded data removed]",
      "text/plain": [
       "<Figure size 432x288 with 1 Axes>"
      ]
     },
     "metadata": {
      "needs_background": "light"
     },
     "output_type": "display_data"
    }
   ],
   "source": [
    "sns.barplot(df.mes.unique(),df.mes.value_counts())\n",
    "plt.title('Numero de óbitos por mês')\n",
    "plt.xlabel('Mês')\n",
    "plt.ylabel('Numero de óbitos')\n",
    "plt.savefig(\"Numero de óbitos por mês\",dpi=300)"
   ]
  },
  {
   "cell_type": "code",
   "execution_count": 21,
   "id": "cc3136b9",
   "metadata": {
    "execution": {
     "iopub.execute_input": "2022-07-24T20:04:57.703413Z",
     "iopub.status.busy": "2022-07-24T20:04:57.702758Z",
     "iopub.status.idle": "2022-07-24T20:04:58.151501Z",
     "shell.execute_reply": "2022-07-24T20:04:58.150200Z"
    },
    "papermill": {
     "duration": 0.463053,
     "end_time": "2022-07-24T20:04:58.154025",
     "exception": false,
     "start_time": "2022-07-24T20:04:57.690972",
     "status": "completed"
    },
    "tags": []
   },
   "outputs": [
    {
     "data": {
      "image/png": "[encoded data removed]",
      "text/plain": [
       "<Figure size 432x288 with 1 Axes>"
      ]
     },
     "metadata": {
      "needs_background": "light"
     },
     "output_type": "display_data"
    }
   ],
   "source": [
    "plt.barh(df.LOCOCOR.unique(),df.LOCOCOR.value_counts())\n",
    "plt.xlabel(\"Numero de Obitos\")\n",
    "plt.ylabel(\"Local do Obito\")\n",
    "plt.savefig(\"Contagem de Suicídios por ano\",dpi=300)"
   ]
  },
  {
   "cell_type": "code",
   "execution_count": 22,
   "id": "40d7047b",
   "metadata": {
    "execution": {
     "iopub.execute_input": "2022-07-24T20:04:58.177124Z",
     "iopub.status.busy": "2022-07-24T20:04:58.176196Z",
     "iopub.status.idle": "2022-07-24T20:04:59.246797Z",
     "shell.execute_reply": "2022-07-24T20:04:59.245170Z"
    },
    "papermill": {
     "duration": 1.084585,
     "end_time": "2022-07-24T20:04:59.249156",
     "exception": false,
     "start_time": "2022-07-24T20:04:58.164571",
     "status": "completed"
    },
    "tags": []
   },
   "outputs": [
    {
     "data": {
      "image/png": "[encoded data removed]",
      "text/plain": [
       "<Figure size 432x288 with 1 Axes>"
      ]
     },
     "metadata": {
      "needs_background": "light"
     },
     "output_type": "display_data"
    },
    {
     "data": {
      "text/plain": [
       "<Figure size 432x288 with 0 Axes>"
      ]
     },
     "metadata": {},
     "output_type": "display_data"
    }
   ],
   "source": [
    "sns.barplot(x = 'idade', y = 'ESTCIV', data = df)\n",
    "plt.xlabel('Idade')\n",
    "plt.ylabel('Estado Cívil')\n",
    "plt.title('idade Média dos óbitos por estado Cívil')\n",
    "plt.show()\n",
    "plt.savefig(\"idade Média dos óbitos por estado Cívil\",dpi=300)"
   ]
  },
  {
   "cell_type": "code",
   "execution_count": 23,
   "id": "54e1cbca",
   "metadata": {
    "execution": {
     "iopub.execute_input": "2022-07-24T20:04:59.273517Z",
     "iopub.status.busy": "2022-07-24T20:04:59.273118Z",
     "iopub.status.idle": "2022-07-24T20:04:59.691470Z",
     "shell.execute_reply": "2022-07-24T20:04:59.690523Z"
    },
    "papermill": {
     "duration": 0.433503,
     "end_time": "2022-07-24T20:04:59.694270",
     "exception": false,
     "start_time": "2022-07-24T20:04:59.260767",
     "status": "completed"
    },
    "tags": []
   },
   "outputs": [
    {
     "data": {
      "image/png": "[encoded data removed]",
      "text/plain": [
       "<Figure size 432x288 with 1 Axes>"
      ]
     },
     "metadata": {
      "needs_background": "light"
     },
     "output_type": "display_data"
    }
   ],
   "source": [
    "plt.bar(df.SEXO.unique(),df.SEXO.value_counts())\n",
    "plt.title('Numero de óbitos por Sexo')\n",
    "plt.xlabel('Sexo')\n",
    "plt.ylabel('Numero de Óbitos')\n",
    "plt.savefig(\"Numero de óbitos por Sexo\",dpi=300)"
   ]
  },
  {
   "cell_type": "code",
   "execution_count": 24,
   "id": "f756ed70",
   "metadata": {
    "execution": {
     "iopub.execute_input": "2022-07-24T20:04:59.722140Z",
     "iopub.status.busy": "2022-07-24T20:04:59.721521Z",
     "iopub.status.idle": "2022-07-24T20:05:00.024785Z",
     "shell.execute_reply": "2022-07-24T20:05:00.023456Z"
    },
    "papermill": {
     "duration": 0.318544,
     "end_time": "2022-07-24T20:05:00.027531",
     "exception": false,
     "start_time": "2022-07-24T20:04:59.708987",
     "status": "completed"
    },
    "tags": []
   },
   "outputs": [
    {
     "data": {
      "image/png": "[encoded data removed]",
      "text/plain": [
       "<Figure size 432x288 with 1 Axes>"
      ]
     },
     "metadata": {
      "needs_background": "light"
     },
     "output_type": "display_data"
    },
    {
     "data": {
      "text/plain": [
       "<Figure size 432x288 with 0 Axes>"
      ]
     },
     "metadata": {},
     "output_type": "display_data"
    }
   ],
   "source": [
    "plt.bar(df.ASSISTMED.unique(),df.ASSISTMED.value_counts())\n",
    "plt.title('Quantidade de óbitos com plano de saúde')\n",
    "plt.xlabel('Tem plano de saúde?')\n",
    "plt.show()\n",
    "plt.savefig(\"Quantidade de óbitos com plano de Saúde\",dpi=300)"
   ]
  },
  {
   "cell_type": "code",
   "execution_count": 25,
   "id": "406610ea",
   "metadata": {
    "execution": {
     "iopub.execute_input": "2022-07-24T20:05:00.054234Z",
     "iopub.status.busy": "2022-07-24T20:05:00.053212Z",
     "iopub.status.idle": "2022-07-24T20:05:00.584423Z",
     "shell.execute_reply": "2022-07-24T20:05:00.582610Z"
    },
    "papermill": {
     "duration": 0.547189,
     "end_time": "2022-07-24T20:05:00.586869",
     "exception": false,
     "start_time": "2022-07-24T20:05:00.039680",
     "status": "completed"
    },
    "tags": []
   },
   "outputs": [
    {
     "data": {
      "image/png": "[encoded data removed]",
      "text/plain": [
       "<Figure size 432x288 with 1 Axes>"
      ]
     },
     "metadata": {
      "needs_background": "light"
     },
     "output_type": "display_data"
    },
    {
     "data": {
      "text/plain": [
       "<Figure size 432x288 with 0 Axes>"
      ]
     },
     "metadata": {},
     "output_type": "display_data"
    }
   ],
   "source": [
    "sns.histplot(df, x=\"SEXO\", hue=\"RACACOR\", multiple=\"dodge\", shrink=.8)\n",
    "plt.title('Comparação de Suicídios por Cor e Sexo')\n",
    "plt.ylabel('Numero de óbitos')\n",
    "plt.show()\n",
    "plt.savefig(\"Comparação de Suicídios por Cor e Sexo\",dpi=300)"
   ]
  },
  {
   "cell_type": "markdown",
   "id": "76de312c",
   "metadata": {
    "papermill": {
     "duration": 0.011458,
     "end_time": "2022-07-24T20:05:00.610250",
     "exception": false,
     "start_time": "2022-07-24T20:05:00.598792",
     "status": "completed"
    },
    "tags": []
   },
   "source": [
    "https://github.com/DouglasOliveira94/Suicidios_Brasil_2014_2018"
   ]
  }
 ],
 "metadata": {
  "kernelspec": {
   "display_name": "Python 3",
   "language": "python",
   "name": "python3"
  },
  "language_info": {
   "codemirror_mode": {
    "name": "ipython",
    "version": 3
   },
   "file_extension": ".py",
   "mimetype": "text/x-python",
   "name": "python",
   "nbconvert_exporter": "python",
   "pygments_lexer": "ipython3",
   "version": "3.7.12"
  },
  "papermill": {
   "default_parameters": {},
   "duration": 17.265444,
   "end_time": "2022-07-24T20:05:01.343553",
   "environment_variables": {},
   "exception": null,
   "input_path": "__notebook__.ipynb",
   "output_path": "__notebook__.ipynb",
   "parameters": {},
   "start_time": "2022-07-24T20:04:44.078109",
   "version": "2.3.4"
  }
 },
 "nbformat": 4,
 "nbformat_minor": 5
}
