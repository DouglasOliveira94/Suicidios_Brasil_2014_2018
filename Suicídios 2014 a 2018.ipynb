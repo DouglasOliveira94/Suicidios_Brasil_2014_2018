{
 "cells": [
  {
   "cell_type": "markdown",
   "id": "c36161ad",
   "metadata": {},
   "source": [
    "# Vamos analisar os suicidios do brasil entre 2014 a 2018"
   ]
  },
  {
   "cell_type": "code",
   "execution_count": 1,
   "id": "6806cdb7",
   "metadata": {},
   "outputs": [],
   "source": [
    "import pandas as pd\n",
    "import numpy as np\n",
    "import matplotlib.pyplot as plt\n",
    "import seaborn as sns"
   ]
  },
  {
   "cell_type": "code",
   "execution_count": 2,
   "id": "12d9752e",
   "metadata": {},
   "outputs": [
    {
     "data": {
      "text/plain": [
       "<bound method NDFrame.head of       estado   ano CIRCOBITO   DTOBITO    DTNASC       SEXO RACACOR  \\\n",
       "0         AC  2014  Suicídio  02-01-14  02-07-77  Masculino   Preta   \n",
       "1         AC  2014  Suicídio  23-01-14  30-07-66  Masculino  Branca   \n",
       "2         AC  2014  Suicídio  31-01-14  28-07-43  Masculino  Branca   \n",
       "3         AC  2014  Suicídio  05-02-14  04-07-99  Masculino  Branca   \n",
       "4         AC  2014  Suicídio  06-02-14  02-05-72  Masculino  Branca   \n",
       "...      ...   ...       ...       ...       ...        ...     ...   \n",
       "58629     TO  2018  Suicídio  16-04-18  17-11-89  Masculino  Branca   \n",
       "58630     TO  2018  Suicídio  14-05-18  03-07-90   Feminino   Parda   \n",
       "58631     TO  2018  Suicídio  15-05-18  08-08-55   Feminino   Parda   \n",
       "58632     TO  2018  Suicídio  24-07-18  27-06-01  Masculino   Parda   \n",
       "58633     TO  2018  Suicídio  28-12-18  17-07-76  Masculino   Preta   \n",
       "\n",
       "                 ESTCIV          ESC                             OCUP  \\\n",
       "0                Casado   4 a 7 anos   ATLETA PROFISSIONAL DE FUTEBOL   \n",
       "1      União consensual    12 e mais  MEDICO GINECOLOGISTA E OBSTETRA   \n",
       "2                   NaN          NaN                                0   \n",
       "3              Solteiro   4 a 7 anos                        ESTUDANTE   \n",
       "4                   NaN          NaN                                0   \n",
       "...                 ...          ...                              ...   \n",
       "58629          Solteiro  8 a 11 anos            DESEMPREGADO CRONICO    \n",
       "58630  União consensual          NaN                        ESTUDANTE   \n",
       "58631             Viúvo      Nenhuma                     DONA DE CASA   \n",
       "58632          Solteiro  8 a 11 anos                        ESTUDANTE   \n",
       "58633  União consensual      Nenhuma                                0   \n",
       "\n",
       "            CODMUNRES    LOCOCOR ASSISTMED CAUSABAS CAUSABAS_O  idade  mes  \n",
       "0          Rio Branco  Domicílio       Não     X700       X700   37.0    1  \n",
       "1          Rio Branco  Domicílio       Não     X800       X800   48.0    1  \n",
       "2          Rio Branco  Domicílio       Não     X700       X700   71.0    1  \n",
       "3      Epitaciolândia     Outros       Não     X700       X700   15.0    2  \n",
       "4          Rio Branco     Outros       Não     X700       X700   42.0    2  \n",
       "...               ...        ...       ...      ...        ...    ...  ...  \n",
       "58629          Palmas  Domicílio       Não     X780       X780   29.0    4  \n",
       "58630          Palmas  Domicílio       Não     X610       X840   28.0    5  \n",
       "58631          Palmas   Hospital       Sim     X699        R99   63.0    5  \n",
       "58632       Araguaína     Outros       Não     X700       X700   17.0    7  \n",
       "58633      Natividade  Domicílio       Não     X700       X700   42.0   12  \n",
       "\n",
       "[58634 rows x 17 columns]>"
      ]
     },
     "execution_count": 2,
     "metadata": {},
     "output_type": "execute_result"
    }
   ],
   "source": [
    "df = pd.read_csv('dsuicidio2018.csv', encoding='latin-1')\n",
    "df.head"
   ]
  },
  {
   "cell_type": "code",
   "execution_count": 3,
   "id": "c7c0442c",
   "metadata": {},
   "outputs": [
    {
     "data": {
      "text/plain": [
       "estado         object\n",
       "ano             int64\n",
       "CIRCOBITO      object\n",
       "DTOBITO        object\n",
       "DTNASC         object\n",
       "SEXO           object\n",
       "RACACOR        object\n",
       "ESTCIV         object\n",
       "ESC            object\n",
       "OCUP           object\n",
       "CODMUNRES      object\n",
       "LOCOCOR        object\n",
       "ASSISTMED      object\n",
       "CAUSABAS       object\n",
       "CAUSABAS_O     object\n",
       "idade         float64\n",
       "mes             int64\n",
       "dtype: object"
      ]
     },
     "execution_count": 3,
     "metadata": {},
     "output_type": "execute_result"
    }
   ],
   "source": [
    "df.dtypes"
   ]
  },
  {
   "cell_type": "code",
   "execution_count": 4,
   "id": "d192964d",
   "metadata": {},
   "outputs": [
    {
     "data": {
      "text/plain": [
       "estado            0\n",
       "ano               0\n",
       "CIRCOBITO      2028\n",
       "DTOBITO           0\n",
       "DTNASC          227\n",
       "SEXO             15\n",
       "RACACOR        1336\n",
       "ESTCIV         4329\n",
       "ESC           13472\n",
       "OCUP              0\n",
       "CODMUNRES         0\n",
       "LOCOCOR         171\n",
       "ASSISTMED     17762\n",
       "CAUSABAS          0\n",
       "CAUSABAS_O       90\n",
       "idade           227\n",
       "mes               0\n",
       "dtype: int64"
      ]
     },
     "execution_count": 4,
     "metadata": {},
     "output_type": "execute_result"
    }
   ],
   "source": [
    "df.isnull().sum()"
   ]
  },
  {
   "cell_type": "code",
   "execution_count": 5,
   "id": "e1a975e8",
   "metadata": {},
   "outputs": [],
   "source": [
    "def preprocessamento(df, cols_numericas, cols_categoricas):\n",
    "    dff = df.copy()\n",
    "    temp = (df.isnull().sum() / df.shape[0]) >= 0.8\n",
    "    variaveis_80percFaltantes = temp.loc[temp == True].index.tolist()\n",
    "    for v in variaveis_80percFaltantes:\n",
    "        dff = dff.drop(v, axis = 1)\n",
    "        \n",
    "    cols_numericas = list(set(cols_numericas).intersection(set(dff.columns.tolist())))\n",
    "    cols_categoricas = list(set(cols_categoricas).intersection(set(dff.columns.tolist())))\n",
    "        \n",
    "    for v in cols_numericas:\n",
    "        dff[v] = dff[v].fillna(dff[v].mean())\n",
    "        \n",
    "    for v in cols_categoricas:\n",
    "        mode_v = dff[v].value_counts().idxmax()\n",
    "        dff[v] = dff[v].fillna(mode_v)\n",
    "    return dff"
   ]
  },
  {
   "cell_type": "code",
   "execution_count": 6,
   "id": "9daaa008",
   "metadata": {},
   "outputs": [
    {
     "data": {
      "text/html": [
       "<div>\n",
       "<style scoped>\n",
       "    .dataframe tbody tr th:only-of-type {\n",
       "        vertical-align: middle;\n",
       "    }\n",
       "\n",
       "    .dataframe tbody tr th {\n",
       "        vertical-align: top;\n",
       "    }\n",
       "\n",
       "    .dataframe thead th {\n",
       "        text-align: right;\n",
       "    }\n",
       "</style>\n",
       "<table border=\"1\" class=\"dataframe\">\n",
       "  <thead>\n",
       "    <tr style=\"text-align: right;\">\n",
       "      <th></th>\n",
       "      <th>estado</th>\n",
       "      <th>ano</th>\n",
       "      <th>CIRCOBITO</th>\n",
       "      <th>DTOBITO</th>\n",
       "      <th>DTNASC</th>\n",
       "      <th>SEXO</th>\n",
       "      <th>RACACOR</th>\n",
       "      <th>ESTCIV</th>\n",
       "      <th>ESC</th>\n",
       "      <th>OCUP</th>\n",
       "      <th>CODMUNRES</th>\n",
       "      <th>LOCOCOR</th>\n",
       "      <th>ASSISTMED</th>\n",
       "      <th>CAUSABAS</th>\n",
       "      <th>CAUSABAS_O</th>\n",
       "      <th>idade</th>\n",
       "      <th>mes</th>\n",
       "    </tr>\n",
       "  </thead>\n",
       "  <tbody>\n",
       "    <tr>\n",
       "      <th>0</th>\n",
       "      <td>AC</td>\n",
       "      <td>2014</td>\n",
       "      <td>Suicídio</td>\n",
       "      <td>02-01-14</td>\n",
       "      <td>02-07-77</td>\n",
       "      <td>Masculino</td>\n",
       "      <td>Preta</td>\n",
       "      <td>Casado</td>\n",
       "      <td>4 a 7 anos</td>\n",
       "      <td>ATLETA PROFISSIONAL DE FUTEBOL</td>\n",
       "      <td>Rio Branco</td>\n",
       "      <td>Domicílio</td>\n",
       "      <td>Não</td>\n",
       "      <td>X700</td>\n",
       "      <td>X700</td>\n",
       "      <td>37.0</td>\n",
       "      <td>1</td>\n",
       "    </tr>\n",
       "    <tr>\n",
       "      <th>1</th>\n",
       "      <td>AC</td>\n",
       "      <td>2014</td>\n",
       "      <td>Suicídio</td>\n",
       "      <td>23-01-14</td>\n",
       "      <td>30-07-66</td>\n",
       "      <td>Masculino</td>\n",
       "      <td>Branca</td>\n",
       "      <td>União consensual</td>\n",
       "      <td>12 e mais</td>\n",
       "      <td>MEDICO GINECOLOGISTA E OBSTETRA</td>\n",
       "      <td>Rio Branco</td>\n",
       "      <td>Domicílio</td>\n",
       "      <td>Não</td>\n",
       "      <td>X800</td>\n",
       "      <td>X800</td>\n",
       "      <td>48.0</td>\n",
       "      <td>1</td>\n",
       "    </tr>\n",
       "    <tr>\n",
       "      <th>2</th>\n",
       "      <td>AC</td>\n",
       "      <td>2014</td>\n",
       "      <td>Suicídio</td>\n",
       "      <td>31-01-14</td>\n",
       "      <td>28-07-43</td>\n",
       "      <td>Masculino</td>\n",
       "      <td>Branca</td>\n",
       "      <td>Solteiro</td>\n",
       "      <td>8 a 11 anos</td>\n",
       "      <td>0</td>\n",
       "      <td>Rio Branco</td>\n",
       "      <td>Domicílio</td>\n",
       "      <td>Não</td>\n",
       "      <td>X700</td>\n",
       "      <td>X700</td>\n",
       "      <td>71.0</td>\n",
       "      <td>1</td>\n",
       "    </tr>\n",
       "    <tr>\n",
       "      <th>3</th>\n",
       "      <td>AC</td>\n",
       "      <td>2014</td>\n",
       "      <td>Suicídio</td>\n",
       "      <td>05-02-14</td>\n",
       "      <td>04-07-99</td>\n",
       "      <td>Masculino</td>\n",
       "      <td>Branca</td>\n",
       "      <td>Solteiro</td>\n",
       "      <td>4 a 7 anos</td>\n",
       "      <td>ESTUDANTE</td>\n",
       "      <td>Epitaciolândia</td>\n",
       "      <td>Outros</td>\n",
       "      <td>Não</td>\n",
       "      <td>X700</td>\n",
       "      <td>X700</td>\n",
       "      <td>15.0</td>\n",
       "      <td>2</td>\n",
       "    </tr>\n",
       "    <tr>\n",
       "      <th>4</th>\n",
       "      <td>AC</td>\n",
       "      <td>2014</td>\n",
       "      <td>Suicídio</td>\n",
       "      <td>06-02-14</td>\n",
       "      <td>02-05-72</td>\n",
       "      <td>Masculino</td>\n",
       "      <td>Branca</td>\n",
       "      <td>Solteiro</td>\n",
       "      <td>8 a 11 anos</td>\n",
       "      <td>0</td>\n",
       "      <td>Rio Branco</td>\n",
       "      <td>Outros</td>\n",
       "      <td>Não</td>\n",
       "      <td>X700</td>\n",
       "      <td>X700</td>\n",
       "      <td>42.0</td>\n",
       "      <td>2</td>\n",
       "    </tr>\n",
       "    <tr>\n",
       "      <th>...</th>\n",
       "      <td>...</td>\n",
       "      <td>...</td>\n",
       "      <td>...</td>\n",
       "      <td>...</td>\n",
       "      <td>...</td>\n",
       "      <td>...</td>\n",
       "      <td>...</td>\n",
       "      <td>...</td>\n",
       "      <td>...</td>\n",
       "      <td>...</td>\n",
       "      <td>...</td>\n",
       "      <td>...</td>\n",
       "      <td>...</td>\n",
       "      <td>...</td>\n",
       "      <td>...</td>\n",
       "      <td>...</td>\n",
       "      <td>...</td>\n",
       "    </tr>\n",
       "    <tr>\n",
       "      <th>58629</th>\n",
       "      <td>TO</td>\n",
       "      <td>2018</td>\n",
       "      <td>Suicídio</td>\n",
       "      <td>16-04-18</td>\n",
       "      <td>17-11-89</td>\n",
       "      <td>Masculino</td>\n",
       "      <td>Branca</td>\n",
       "      <td>Solteiro</td>\n",
       "      <td>8 a 11 anos</td>\n",
       "      <td>DESEMPREGADO CRONICO</td>\n",
       "      <td>Palmas</td>\n",
       "      <td>Domicílio</td>\n",
       "      <td>Não</td>\n",
       "      <td>X780</td>\n",
       "      <td>X780</td>\n",
       "      <td>29.0</td>\n",
       "      <td>4</td>\n",
       "    </tr>\n",
       "    <tr>\n",
       "      <th>58630</th>\n",
       "      <td>TO</td>\n",
       "      <td>2018</td>\n",
       "      <td>Suicídio</td>\n",
       "      <td>14-05-18</td>\n",
       "      <td>03-07-90</td>\n",
       "      <td>Feminino</td>\n",
       "      <td>Parda</td>\n",
       "      <td>União consensual</td>\n",
       "      <td>8 a 11 anos</td>\n",
       "      <td>ESTUDANTE</td>\n",
       "      <td>Palmas</td>\n",
       "      <td>Domicílio</td>\n",
       "      <td>Não</td>\n",
       "      <td>X610</td>\n",
       "      <td>X840</td>\n",
       "      <td>28.0</td>\n",
       "      <td>5</td>\n",
       "    </tr>\n",
       "    <tr>\n",
       "      <th>58631</th>\n",
       "      <td>TO</td>\n",
       "      <td>2018</td>\n",
       "      <td>Suicídio</td>\n",
       "      <td>15-05-18</td>\n",
       "      <td>08-08-55</td>\n",
       "      <td>Feminino</td>\n",
       "      <td>Parda</td>\n",
       "      <td>Viúvo</td>\n",
       "      <td>Nenhuma</td>\n",
       "      <td>DONA DE CASA</td>\n",
       "      <td>Palmas</td>\n",
       "      <td>Hospital</td>\n",
       "      <td>Sim</td>\n",
       "      <td>X699</td>\n",
       "      <td>R99</td>\n",
       "      <td>63.0</td>\n",
       "      <td>5</td>\n",
       "    </tr>\n",
       "    <tr>\n",
       "      <th>58632</th>\n",
       "      <td>TO</td>\n",
       "      <td>2018</td>\n",
       "      <td>Suicídio</td>\n",
       "      <td>24-07-18</td>\n",
       "      <td>27-06-01</td>\n",
       "      <td>Masculino</td>\n",
       "      <td>Parda</td>\n",
       "      <td>Solteiro</td>\n",
       "      <td>8 a 11 anos</td>\n",
       "      <td>ESTUDANTE</td>\n",
       "      <td>Araguaína</td>\n",
       "      <td>Outros</td>\n",
       "      <td>Não</td>\n",
       "      <td>X700</td>\n",
       "      <td>X700</td>\n",
       "      <td>17.0</td>\n",
       "      <td>7</td>\n",
       "    </tr>\n",
       "    <tr>\n",
       "      <th>58633</th>\n",
       "      <td>TO</td>\n",
       "      <td>2018</td>\n",
       "      <td>Suicídio</td>\n",
       "      <td>28-12-18</td>\n",
       "      <td>17-07-76</td>\n",
       "      <td>Masculino</td>\n",
       "      <td>Preta</td>\n",
       "      <td>União consensual</td>\n",
       "      <td>Nenhuma</td>\n",
       "      <td>0</td>\n",
       "      <td>Natividade</td>\n",
       "      <td>Domicílio</td>\n",
       "      <td>Não</td>\n",
       "      <td>X700</td>\n",
       "      <td>X700</td>\n",
       "      <td>42.0</td>\n",
       "      <td>12</td>\n",
       "    </tr>\n",
       "  </tbody>\n",
       "</table>\n",
       "<p>58634 rows × 17 columns</p>\n",
       "</div>"
      ],
      "text/plain": [
       "      estado   ano CIRCOBITO   DTOBITO    DTNASC       SEXO RACACOR  \\\n",
       "0         AC  2014  Suicídio  02-01-14  02-07-77  Masculino   Preta   \n",
       "1         AC  2014  Suicídio  23-01-14  30-07-66  Masculino  Branca   \n",
       "2         AC  2014  Suicídio  31-01-14  28-07-43  Masculino  Branca   \n",
       "3         AC  2014  Suicídio  05-02-14  04-07-99  Masculino  Branca   \n",
       "4         AC  2014  Suicídio  06-02-14  02-05-72  Masculino  Branca   \n",
       "...      ...   ...       ...       ...       ...        ...     ...   \n",
       "58629     TO  2018  Suicídio  16-04-18  17-11-89  Masculino  Branca   \n",
       "58630     TO  2018  Suicídio  14-05-18  03-07-90   Feminino   Parda   \n",
       "58631     TO  2018  Suicídio  15-05-18  08-08-55   Feminino   Parda   \n",
       "58632     TO  2018  Suicídio  24-07-18  27-06-01  Masculino   Parda   \n",
       "58633     TO  2018  Suicídio  28-12-18  17-07-76  Masculino   Preta   \n",
       "\n",
       "                 ESTCIV          ESC                             OCUP  \\\n",
       "0                Casado   4 a 7 anos   ATLETA PROFISSIONAL DE FUTEBOL   \n",
       "1      União consensual    12 e mais  MEDICO GINECOLOGISTA E OBSTETRA   \n",
       "2              Solteiro  8 a 11 anos                                0   \n",
       "3              Solteiro   4 a 7 anos                        ESTUDANTE   \n",
       "4              Solteiro  8 a 11 anos                                0   \n",
       "...                 ...          ...                              ...   \n",
       "58629          Solteiro  8 a 11 anos            DESEMPREGADO CRONICO    \n",
       "58630  União consensual  8 a 11 anos                        ESTUDANTE   \n",
       "58631             Viúvo      Nenhuma                     DONA DE CASA   \n",
       "58632          Solteiro  8 a 11 anos                        ESTUDANTE   \n",
       "58633  União consensual      Nenhuma                                0   \n",
       "\n",
       "            CODMUNRES    LOCOCOR ASSISTMED CAUSABAS CAUSABAS_O  idade  mes  \n",
       "0          Rio Branco  Domicílio       Não     X700       X700   37.0    1  \n",
       "1          Rio Branco  Domicílio       Não     X800       X800   48.0    1  \n",
       "2          Rio Branco  Domicílio       Não     X700       X700   71.0    1  \n",
       "3      Epitaciolândia     Outros       Não     X700       X700   15.0    2  \n",
       "4          Rio Branco     Outros       Não     X700       X700   42.0    2  \n",
       "...               ...        ...       ...      ...        ...    ...  ...  \n",
       "58629          Palmas  Domicílio       Não     X780       X780   29.0    4  \n",
       "58630          Palmas  Domicílio       Não     X610       X840   28.0    5  \n",
       "58631          Palmas   Hospital       Sim     X699        R99   63.0    5  \n",
       "58632       Araguaína     Outros       Não     X700       X700   17.0    7  \n",
       "58633      Natividade  Domicílio       Não     X700       X700   42.0   12  \n",
       "\n",
       "[58634 rows x 17 columns]"
      ]
     },
     "execution_count": 6,
     "metadata": {},
     "output_type": "execute_result"
    }
   ],
   "source": [
    "df = preprocessamento(df = df, \n",
    "                            cols_numericas = ['idade'], \n",
    "                            cols_categoricas = ['ASSISTMED', 'ESC','RACACOR','ESTCIV','LOCOCOR','SEXO'])\n",
    "\n",
    "df"
   ]
  },
  {
   "cell_type": "code",
   "execution_count": 7,
   "id": "012d0a93",
   "metadata": {},
   "outputs": [
    {
     "data": {
      "text/plain": [
       "estado        0\n",
       "ano           0\n",
       "CIRCOBITO     0\n",
       "DTOBITO       0\n",
       "DTNASC        0\n",
       "SEXO          0\n",
       "RACACOR       0\n",
       "ESTCIV        0\n",
       "ESC           0\n",
       "OCUP          0\n",
       "CODMUNRES     0\n",
       "LOCOCOR       0\n",
       "ASSISTMED     0\n",
       "CAUSABAS      0\n",
       "CAUSABAS_O    0\n",
       "idade         0\n",
       "mes           0\n",
       "dtype: int64"
      ]
     },
     "execution_count": 7,
     "metadata": {},
     "output_type": "execute_result"
    }
   ],
   "source": [
    "df = df.dropna(axis=0)\n",
    "df.isnull().sum()"
   ]
  },
  {
   "cell_type": "code",
   "execution_count": 8,
   "id": "85ead095",
   "metadata": {},
   "outputs": [
    {
     "data": {
      "text/plain": [
       "Branca      29497\n",
       "Parda       23100\n",
       "Preta        2892\n",
       "Indígena      600\n",
       "Amarela       229\n",
       "Name: RACACOR, dtype: int64"
      ]
     },
     "execution_count": 8,
     "metadata": {},
     "output_type": "execute_result"
    }
   ],
   "source": [
    "df.RACACOR.value_counts()\n",
    "# esse dado se refere Cor das pessoas"
   ]
  },
  {
   "cell_type": "code",
   "execution_count": 9,
   "id": "f340392f",
   "metadata": {},
   "outputs": [
    {
     "data": {
      "text/plain": [
       "Domicílio                         35241\n",
       "Outros                             8838\n",
       "Hospital                           8019\n",
       "Via pública                        3335\n",
       "Outro estabelecimento de saúde      879\n",
       "6                                     6\n",
       "Name: LOCOCOR, dtype: int64"
      ]
     },
     "execution_count": 9,
     "metadata": {},
     "output_type": "execute_result"
    }
   ],
   "source": [
    "df.LOCOCOR.value_counts()\n",
    "#esse dado se refere ao local onde foi cometido o suicidio."
   ]
  },
  {
   "cell_type": "code",
   "execution_count": 10,
   "id": "5278ea66",
   "metadata": {},
   "outputs": [
    {
     "data": {
      "text/plain": [
       "Masculino    44353\n",
       "Feminino     11965\n",
       "Name: SEXO, dtype: int64"
      ]
     },
     "execution_count": 10,
     "metadata": {},
     "output_type": "execute_result"
    }
   ],
   "source": [
    "df.SEXO.value_counts()\n",
    "#esse dado se refere ao sexo da pessoa"
   ]
  },
  {
   "cell_type": "code",
   "execution_count": 11,
   "id": "58bc9beb",
   "metadata": {},
   "outputs": [
    {
     "data": {
      "text/plain": [
       "2018    12364\n",
       "2017    11927\n",
       "2016    10863\n",
       "2015    10824\n",
       "2014    10340\n",
       "Name: ano, dtype: int64"
      ]
     },
     "execution_count": 11,
     "metadata": {},
     "output_type": "execute_result"
    }
   ],
   "source": [
    "df.ano.value_counts()\n",
    "#esse dado se refere ao ano em que foi cometido o suicidio"
   ]
  },
  {
   "cell_type": "code",
   "execution_count": 12,
   "id": "f4611e85",
   "metadata": {},
   "outputs": [
    {
     "data": {
      "text/plain": [
       "SP    10525\n",
       "MG     6725\n",
       "RS     5993\n",
       "PR     3701\n",
       "SC     3288\n",
       "CE     2919\n",
       "RJ     2877\n",
       "BA     2546\n",
       "GO     2331\n",
       "PE     1776\n",
       "PI     1455\n",
       "MA     1347\n",
       "PA     1314\n",
       "MS     1172\n",
       "AM     1086\n",
       "PB      993\n",
       "ES      968\n",
       "MT      862\n",
       "RN      845\n",
       "DF      768\n",
       "SE      597\n",
       "AL      565\n",
       "RO      518\n",
       "TO      514\n",
       "AC      254\n",
       "AP      217\n",
       "RR      162\n",
       "Name: estado, dtype: int64"
      ]
     },
     "execution_count": 12,
     "metadata": {},
     "output_type": "execute_result"
    }
   ],
   "source": [
    "df.estado.value_counts()\n",
    "#esse dado se refere aos estados com maior numero de óbitos"
   ]
  },
  {
   "cell_type": "code",
   "execution_count": 13,
   "id": "0b12b9c7",
   "metadata": {},
   "outputs": [
    {
     "data": {
      "text/plain": [
       "33.0     1250\n",
       "30.0     1228\n",
       "35.0     1215\n",
       "31.0     1211\n",
       "39.0     1203\n",
       "         ... \n",
       "103.0       1\n",
       "99.0        1\n",
       "102.0       1\n",
       "2.0         1\n",
       "6.0         1\n",
       "Name: idade, Length: 106, dtype: int64"
      ]
     },
     "execution_count": 13,
     "metadata": {},
     "output_type": "execute_result"
    }
   ],
   "source": [
    "df.idade.value_counts()"
   ]
  },
  {
   "cell_type": "code",
   "execution_count": 14,
   "id": "1576b230",
   "metadata": {},
   "outputs": [],
   "source": [
    "dfE = df.CODMUNRES.value_counts().head(15)"
   ]
  },
  {
   "cell_type": "code",
   "execution_count": 15,
   "id": "d6bc875a",
   "metadata": {},
   "outputs": [
    {
     "data": {
      "text/plain": [
       "São Paulo         1718\n",
       "Rio de Janeiro    1156\n",
       "Brasília           768\n",
       "Belo Horizonte     729\n",
       "Fortaleza          705\n",
       "Manaus             524\n",
       "Porto Alegre       509\n",
       "Curitiba           474\n",
       "Goiânia            452\n",
       "Salvador           381\n",
       "Teresina           343\n",
       "Campinas           316\n",
       "Recife             306\n",
       "Guarulhos          304\n",
       "Campo Grande       299\n",
       "Name: CODMUNRES, dtype: int64"
      ]
     },
     "execution_count": 15,
     "metadata": {},
     "output_type": "execute_result"
    }
   ],
   "source": [
    "dfE"
   ]
  },
  {
   "cell_type": "code",
   "execution_count": 27,
   "id": "395662ef",
   "metadata": {},
   "outputs": [
    {
     "data": {
      "image/png": "[encoded data removed]",
      "text/plain": [
       "<Figure size 432x288 with 1 Axes>"
      ]
     },
     "metadata": {
      "needs_background": "light"
     },
     "output_type": "display_data"
    },
    {
     "data": {
      "text/plain": [
       "<Figure size 432x288 with 0 Axes>"
      ]
     },
     "metadata": {},
     "output_type": "display_data"
    }
   ],
   "source": [
    "df['estado'].value_counts().plot.bar()\n",
    "plt.title('Comparação de Suicídios por Estado')\n",
    "plt.ylabel('Numero de óbitos')\n",
    "plt.show()\n",
    "plt.savefig(\"Comparação de Suicídios por Estado\",dpi=300)"
   ]
  },
  {
   "cell_type": "code",
   "execution_count": 29,
   "id": "536f02df",
   "metadata": {},
   "outputs": [
    {
     "data": {
      "image/png": "[encoded data removed]",
      "text/plain": [
       "<Figure size 432x288 with 1 Axes>"
      ]
     },
     "metadata": {
      "needs_background": "light"
     },
     "output_type": "display_data"
    }
   ],
   "source": [
    "dfE.plot.barh()\n",
    "plt.title('Comparação de Suicídios por Cidades')\n",
    "plt.show()"
   ]
  },
  {
   "cell_type": "code",
   "execution_count": 18,
   "id": "70e2eede",
   "metadata": {},
   "outputs": [
    {
     "data": {
      "image/png": "[encoded data removed]",
      "text/plain": [
       "<Figure size 432x288 with 1 Axes>"
      ]
     },
     "metadata": {
      "needs_background": "light"
     },
     "output_type": "display_data"
    }
   ],
   "source": [
    "plt.barh(df.ESTCIV.unique(),df.ESTCIV.value_counts())\n",
    "plt.title('Numero de óbitos por estado cívil')\n",
    "plt.savefig(\"Numero de óbitos por estado cívil\",dpi=600)"
   ]
  },
  {
   "cell_type": "code",
   "execution_count": 19,
   "id": "0873d84d",
   "metadata": {},
   "outputs": [
    {
     "data": {
      "image/png": "[encoded data removed]",
      "text/plain": [
       "<Figure size 432x288 with 1 Axes>"
      ]
     },
     "metadata": {
      "needs_background": "light"
     },
     "output_type": "display_data"
    }
   ],
   "source": [
    "plt.barh(df.ano.unique(),df.ano.value_counts())\n",
    "plt.title('Contagem de Suicídios por ano')\n",
    "plt.ylabel('Ano')\n",
    "plt.xlabel('Numero Obitos')\n",
    "plt.savefig(\"Contagem de Suicídios por ano\",dpi=300)"
   ]
  },
  {
   "cell_type": "code",
   "execution_count": 20,
   "id": "0d124694",
   "metadata": {},
   "outputs": [
    {
     "name": "stderr",
     "output_type": "stream",
     "text": [
      "/home/douglas/.local/lib/python3.10/site-packages/seaborn/_decorators.py:36: FutureWarning: Pass the following variables as keyword args: x, y. From version 0.12, the only valid positional argument will be `data`, and passing other arguments without an explicit keyword will result in an error or misinterpretation.\n",
      "  warnings.warn(\n"
     ]
    },
    {
     "data": {
      "image/png": "[encoded data removed]",
      "text/plain": [
       "<Figure size 432x288 with 1 Axes>"
      ]
     },
     "metadata": {
      "needs_background": "light"
     },
     "output_type": "display_data"
    }
   ],
   "source": [
    "sns.barplot(df.mes.unique(),df.mes.value_counts())\n",
    "plt.title('Numero de óbitos por mês')\n",
    "plt.xlabel('Mês')\n",
    "plt.ylabel('Numero de óbitos')\n",
    "plt.savefig(\"Numero de óbitos por mês\",dpi=300)"
   ]
  },
  {
   "cell_type": "code",
   "execution_count": 21,
   "id": "960dd2f4",
   "metadata": {},
   "outputs": [
    {
     "data": {
      "image/png": "[encoded data removed]",
      "text/plain": [
       "<Figure size 432x288 with 1 Axes>"
      ]
     },
     "metadata": {
      "needs_background": "light"
     },
     "output_type": "display_data"
    }
   ],
   "source": [
    "plt.barh(df.LOCOCOR.unique(),df.LOCOCOR.value_counts())\n",
    "plt.xlabel(\"Numero de Obitos\")\n",
    "plt.ylabel(\"Local do Obito\")\n",
    "plt.savefig(\"Contagem de Suicídios por ano\",dpi=300)"
   ]
  },
  {
   "cell_type": "code",
   "execution_count": 30,
   "id": "db2e7184",
   "metadata": {},
   "outputs": [
    {
     "data": {
      "image/png": "[encoded data removed]",
      "text/plain": [
       "<Figure size 432x288 with 1 Axes>"
      ]
     },
     "metadata": {
      "needs_background": "light"
     },
     "output_type": "display_data"
    },
    {
     "data": {
      "text/plain": [
       "<Figure size 432x288 with 0 Axes>"
      ]
     },
     "metadata": {},
     "output_type": "display_data"
    }
   ],
   "source": [
    "sns.barplot(x = 'idade', y = 'ESTCIV', data = df)\n",
    "plt.xlabel('Idade')\n",
    "plt.ylabel('Estado Cívil')\n",
    "plt.title('idade Média dos óbitos por estado Cívil')\n",
    "plt.show()\n",
    "plt.savefig(\"idade Média dos óbitos por estado Cívil\",dpi=300)"
   ]
  },
  {
   "cell_type": "code",
   "execution_count": 23,
   "id": "add87751",
   "metadata": {},
   "outputs": [
    {
     "data": {
      "image/png": "[encoded data removed]",
      "text/plain": [
       "<Figure size 432x288 with 1 Axes>"
      ]
     },
     "metadata": {
      "needs_background": "light"
     },
     "output_type": "display_data"
    }
   ],
   "source": [
    "plt.bar(df.SEXO.unique(),df.SEXO.value_counts())\n",
    "plt.title('Numero de óbitos por Sexo')\n",
    "plt.xlabel('Sexo')\n",
    "plt.ylabel('Numero de Óbitos')\n",
    "plt.savefig(\"Numero de óbitos por Sexo\",dpi=300)"
   ]
  },
  {
   "cell_type": "code",
   "execution_count": 24,
   "id": "e219c50a",
   "metadata": {},
   "outputs": [
    {
     "data": {
      "image/png": "[encoded data removed]",
      "text/plain": [
       "<Figure size 432x288 with 1 Axes>"
      ]
     },
     "metadata": {
      "needs_background": "light"
     },
     "output_type": "display_data"
    },
    {
     "data": {
      "text/plain": [
       "<Figure size 432x288 with 0 Axes>"
      ]
     },
     "metadata": {},
     "output_type": "display_data"
    }
   ],
   "source": [
    "plt.bar(df.ASSISTMED.unique(),df.ASSISTMED.value_counts())\n",
    "plt.title('Quantidade de óbitos com plano de saúde')\n",
    "plt.xlabel('Tem plano de saúde?')\n",
    "plt.show()\n",
    "plt.savefig(\"Quantidade de óbitos com plano de Saúde\",dpi=300)"
   ]
  },
  {
   "cell_type": "code",
   "execution_count": 25,
   "id": "e311e138",
   "metadata": {},
   "outputs": [
    {
     "data": {
      "image/png": "[encoded data removed]",
      "text/plain": [
       "<Figure size 432x288 with 1 Axes>"
      ]
     },
     "metadata": {
      "needs_background": "light"
     },
     "output_type": "display_data"
    },
    {
     "data": {
      "text/plain": [
       "<Figure size 432x288 with 0 Axes>"
      ]
     },
     "metadata": {},
     "output_type": "display_data"
    }
   ],
   "source": [
    "sns.histplot(df, x=\"SEXO\", hue=\"RACACOR\", multiple=\"dodge\", shrink=.8)\n",
    "plt.title('Comparação de Suicídios por Cor e Sexo')\n",
    "plt.ylabel('Numero de óbitos')\n",
    "plt.show()\n",
    "plt.savefig(\"Comparação de Suicídios por Cor e Sexo\",dpi=300)"
   ]
  }
 ],
 "metadata": {
  "kernelspec": {
   "display_name": "Python 3 (ipykernel)",
   "language": "python",
   "name": "python3"
  },
  "language_info": {
   "codemirror_mode": {
    "name": "ipython",
    "version": 3
   },
   "file_extension": ".py",
   "mimetype": "text/x-python",
   "name": "python",
   "nbconvert_exporter": "python",
   "pygments_lexer": "ipython3",
   "version": "3.10.4"
  }
 },
 "nbformat": 4,
 "nbformat_minor": 5
}
